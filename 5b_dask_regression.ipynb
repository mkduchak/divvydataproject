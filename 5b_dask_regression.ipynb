{
 "cells": [
  {
   "cell_type": "code",
   "execution_count": 1,
   "metadata": {},
   "outputs": [],
   "source": [
    "import pandas as pd\n",
    "import numpy as np\n",
    "\n",
    "import dask\n",
    "import dask.dataframe as dd\n",
    "import dask_ml\n",
    "\n",
    "from sklearn.linear_model import LinearRegression, Ridge, Lasso, Huber\n",
    "from sklearn.metrics import mean_squared_error\n",
    "from sklearn.pipeline import Pipeline, make_pipeline\n",
    "from sklearn.preprocessing import PolynomialFeatures, StandardScaler\n",
    "from sklearn.model_selection import KFold, train_test_split"
   ]
  },
  {
   "cell_type": "code",
   "execution_count": 2,
   "metadata": {},
   "outputs": [],
   "source": [
    "def train_val_score(trainX, trainy, valX, valy, model): \n",
    "    '''\n",
    "    Given a train and validation set, generate the square root mean squared error for the train and validation set\n",
    "    '''\n",
    "    #first we fit the train set and get predictions and compare them to the actual\n",
    "    model.fit(trainX, trainy)\n",
    "    trainpredict = model.predict(trainX)\n",
    "    trainmse = mean_squared_error(trainy, trainpredict)\n",
    "    train_e = np.sqrt(trainmse)   \n",
    "    \n",
    "    #next we fit the validation set and get the predcitions and compare them to the actual\n",
    "    model.fit(valX,valy)\n",
    "    valpredict = model.predict(valX)\n",
    "    valmse = mean_squared_error(valy, valpredict)\n",
    "    val_e = np.sqrt(valmse)\n",
    "    \n",
    "    \n",
    "    return print(str(round(train_e,6)) + ' Training Error, ' + str(round(val_e,6)) + ' Valid error')"
   ]
  },
  {
   "cell_type": "code",
   "execution_count": 3,
   "metadata": {},
   "outputs": [],
   "source": [
    "data = pd.read_pickle('/home/michael/Documents/Projects/divvydataproject/data/fulldataagg.pkl')\n",
    "data = data[data['datetime'].dt.year > 2013]\n",
    "data = dd.from_pandas(data, npartitions = 8)"
   ]
  },
  {
   "cell_type": "code",
   "execution_count": 4,
   "metadata": {},
   "outputs": [
    {
     "data": {
      "text/html": [
       "<div>\n",
       "<style scoped>\n",
       "    .dataframe tbody tr th:only-of-type {\n",
       "        vertical-align: middle;\n",
       "    }\n",
       "\n",
       "    .dataframe tbody tr th {\n",
       "        vertical-align: top;\n",
       "    }\n",
       "\n",
       "    .dataframe thead th {\n",
       "        text-align: right;\n",
       "    }\n",
       "</style>\n",
       "<table border=\"1\" class=\"dataframe\">\n",
       "  <thead>\n",
       "    <tr style=\"text-align: right;\">\n",
       "      <th></th>\n",
       "      <th>datetime</th>\n",
       "      <th>to_station_id</th>\n",
       "      <th>temp</th>\n",
       "      <th>precip</th>\n",
       "      <th>trips</th>\n",
       "      <th>location_soldierfield</th>\n",
       "      <th>location_unitedcenter</th>\n",
       "      <th>location_uscellular</th>\n",
       "      <th>location_wrigley</th>\n",
       "    </tr>\n",
       "  </thead>\n",
       "  <tbody>\n",
       "    <tr>\n",
       "      <th>318445</th>\n",
       "      <td>2014-01-01</td>\n",
       "      <td>135</td>\n",
       "      <td>10.0</td>\n",
       "      <td>0.04</td>\n",
       "      <td>1.0</td>\n",
       "      <td>0.0</td>\n",
       "      <td>0.0</td>\n",
       "      <td>0.0</td>\n",
       "      <td>0.0</td>\n",
       "    </tr>\n",
       "    <tr>\n",
       "      <th>318446</th>\n",
       "      <td>2014-01-01</td>\n",
       "      <td>135</td>\n",
       "      <td>10.0</td>\n",
       "      <td>0.00</td>\n",
       "      <td>1.0</td>\n",
       "      <td>0.0</td>\n",
       "      <td>0.0</td>\n",
       "      <td>0.0</td>\n",
       "      <td>0.0</td>\n",
       "    </tr>\n",
       "    <tr>\n",
       "      <th>318447</th>\n",
       "      <td>2014-01-01</td>\n",
       "      <td>135</td>\n",
       "      <td>10.0</td>\n",
       "      <td>0.00</td>\n",
       "      <td>1.0</td>\n",
       "      <td>0.0</td>\n",
       "      <td>0.0</td>\n",
       "      <td>0.0</td>\n",
       "      <td>0.0</td>\n",
       "    </tr>\n",
       "    <tr>\n",
       "      <th>318448</th>\n",
       "      <td>2014-01-01</td>\n",
       "      <td>339</td>\n",
       "      <td>10.0</td>\n",
       "      <td>0.04</td>\n",
       "      <td>1.0</td>\n",
       "      <td>0.0</td>\n",
       "      <td>0.0</td>\n",
       "      <td>0.0</td>\n",
       "      <td>0.0</td>\n",
       "    </tr>\n",
       "    <tr>\n",
       "      <th>318449</th>\n",
       "      <td>2014-01-01</td>\n",
       "      <td>339</td>\n",
       "      <td>10.0</td>\n",
       "      <td>0.00</td>\n",
       "      <td>1.0</td>\n",
       "      <td>0.0</td>\n",
       "      <td>0.0</td>\n",
       "      <td>0.0</td>\n",
       "      <td>0.0</td>\n",
       "    </tr>\n",
       "  </tbody>\n",
       "</table>\n",
       "</div>"
      ],
      "text/plain": [
       "         datetime  to_station_id  temp  precip  trips  location_soldierfield  \\\n",
       "318445 2014-01-01            135  10.0    0.04    1.0                    0.0   \n",
       "318446 2014-01-01            135  10.0    0.00    1.0                    0.0   \n",
       "318447 2014-01-01            135  10.0    0.00    1.0                    0.0   \n",
       "318448 2014-01-01            339  10.0    0.04    1.0                    0.0   \n",
       "318449 2014-01-01            339  10.0    0.00    1.0                    0.0   \n",
       "\n",
       "        location_unitedcenter  location_uscellular  location_wrigley  \n",
       "318445                    0.0                  0.0               0.0  \n",
       "318446                    0.0                  0.0               0.0  \n",
       "318447                    0.0                  0.0               0.0  \n",
       "318448                    0.0                  0.0               0.0  \n",
       "318449                    0.0                  0.0               0.0  "
      ]
     },
     "execution_count": 4,
     "metadata": {},
     "output_type": "execute_result"
    }
   ],
   "source": [
    "data.head()"
   ]
  },
  {
   "cell_type": "code",
   "execution_count": 5,
   "metadata": {},
   "outputs": [],
   "source": [
    "df_trainval, df_test = data.random_split([0.9, 0.1], random_state=2)\n",
    "df_train, df_val = df_trainval.random_split([0.9, 0.1], random_state=2)"
   ]
  },
  {
   "cell_type": "code",
   "execution_count": 6,
   "metadata": {},
   "outputs": [],
   "source": [
    "trainX = df_train[['temp','precip','location_soldierfield','location_unitedcenter','location_uscellular','location_wrigley']]\n",
    "valX = df_val[['temp','precip','location_soldierfield','location_unitedcenter','location_uscellular','location_wrigley']]\n",
    "trainy = df_train[['trips']]\n",
    "valy = df_val[['trips']]"
   ]
  },
  {
   "cell_type": "code",
   "execution_count": 7,
   "metadata": {},
   "outputs": [
    {
     "data": {
      "text/plain": [
       "dask.dataframe.core.DataFrame"
      ]
     },
     "execution_count": 7,
     "metadata": {},
     "output_type": "execute_result"
    }
   ],
   "source": [
    "type(trainX)"
   ]
  },
  {
   "cell_type": "code",
   "execution_count": null,
   "metadata": {},
   "outputs": [
    {
     "name": "stdout",
     "output_type": "stream",
     "text": [
      "Alpha: 1e-06\n"
     ]
    }
   ],
   "source": [
    "alpha = [1e-6, 1e-5,1e-4, 1e-3, 1e-2, 1e-1, 1]#, 1e1,1e2]\n",
    "for alpha in alpha:\n",
    "    lasso = Lasso(alpha=alpha, fit_intercept=True, random_state=77)\n",
    "    print('Alpha: '+str(alpha))\n",
    "    train_val_score(trainX, trainy, valX, valy, lasso).compute()"
   ]
  },
  {
   "cell_type": "code",
   "execution_count": null,
   "metadata": {},
   "outputs": [],
   "source": []
  }
 ],
 "metadata": {
  "kernelspec": {
   "display_name": "Python 3",
   "language": "python",
   "name": "python3"
  },
  "language_info": {
   "codemirror_mode": {
    "name": "ipython",
    "version": 3
   },
   "file_extension": ".py",
   "mimetype": "text/x-python",
   "name": "python",
   "nbconvert_exporter": "python",
   "pygments_lexer": "ipython3",
   "version": "3.6.4"
  }
 },
 "nbformat": 4,
 "nbformat_minor": 2
}
